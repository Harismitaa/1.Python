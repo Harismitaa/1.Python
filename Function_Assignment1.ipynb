{
 "cells": [
  {
   "cell_type": "code",
   "execution_count": 5,
   "id": "1ed81b3e-5fd7-4f70-8d2f-0d6a8e343fe7",
   "metadata": {},
   "outputs": [
    {
     "name": "stdout",
     "output_type": "stream",
     "text": [
      "Sub-fields in AI are:\n",
      "Machine Learning\n",
      "Neural Networks\n",
      "Vision\n",
      "Robotics\n",
      "Speech Processing\n",
      "Natural Language Processing\n"
     ]
    }
   ],
   "source": [
    "list=(\"Machine Learning\",\"Neural Networks\",\"Vision\",\"Robotics\",\"Speech Processing\",\"Natural Language Processing\")\n",
    "def SubFields():\n",
    "    print(\"Sub-fields in AI are:\")\n",
    "    for temp in list:\n",
    "        print(temp)\n",
    "SubFields()"
   ]
  },
  {
   "cell_type": "code",
   "execution_count": 6,
   "id": "e88a62e6-b731-416d-ba72-a9b3491a2cd4",
   "metadata": {},
   "outputs": [
    {
     "name": "stdin",
     "output_type": "stream",
     "text": [
      "Enter a number 3\n"
     ]
    },
    {
     "name": "stdout",
     "output_type": "stream",
     "text": [
      "The number is Odd\n"
     ]
    }
   ],
   "source": [
    "def OddEven():\n",
    "    num=int(input(\"Enter a number\"))\n",
    "    if(num%2==0):\n",
    "        message=\"Even\"\n",
    "    else:\n",
    "        message=\"Odd\"\n",
    "    return message\n",
    "Check=OddEven()\n",
    "if(Check==\"Even\"):\n",
    "    print(\"The number is Even\")\n",
    "else:\n",
    "    print(\"The number is Odd\")"
   ]
  },
  {
   "cell_type": "code",
   "execution_count": 16,
   "id": "757bbcf8-14a7-476d-b9d8-2851d6913bc7",
   "metadata": {},
   "outputs": [
    {
     "name": "stdin",
     "output_type": "stream",
     "text": [
      "Your Gender(Male/Female): Male\n",
      "Your Age: 24\n"
     ]
    },
    {
     "name": "stdout",
     "output_type": "stream",
     "text": [
      "Eligible\n"
     ]
    }
   ],
   "source": [
    "def Marriage_Eligibility():\n",
    "    Gender=input(\"Your Gender(Male/Female):\")\n",
    "    Age=int(input(\"Your Age:\"))\n",
    "    if(Gender==\"Male\"):\n",
    "        if(Age>=21):\n",
    "            message=\"Eligible\"\n",
    "        else:\n",
    "            message=\"Not Eligible\"\n",
    "    elif(Gender==\"Female\"):\n",
    "        if(Age>=18):\n",
    "            message=\"Eligible\"\n",
    "        else:\n",
    "            message=\"Not Eligible\"\n",
    "    return message\n",
    "Eligibility=Marriage_Eligibility()\n",
    "print(Eligibility)"
   ]
  },
  {
   "cell_type": "code",
   "execution_count": 22,
   "id": "37ec79fe-10ae-4e8e-b3cf-0a1bbe2fc594",
   "metadata": {},
   "outputs": [
    {
     "name": "stdin",
     "output_type": "stream",
     "text": [
      "Subject1= 98\n",
      "Subject2= 89\n",
      "Subject3= 95\n",
      "Subject4= 95\n",
      "Subject5= 93\n"
     ]
    },
    {
     "name": "stdout",
     "output_type": "stream",
     "text": [
      "Total= 470\n",
      "Percentage= 94.0\n"
     ]
    }
   ],
   "source": [
    "def Percentage_10th():\n",
    "    Sub1=int(input(\"Subject1=\"))\n",
    "    Sub2=int(input(\"Subject2=\"))\n",
    "    Sub3=int(input(\"Subject3=\"))\n",
    "    Sub4=int(input(\"Subject4=\"))\n",
    "    Sub5=int(input(\"Subject5=\"))\n",
    "    Total=Sub1+Sub2+Sub3+Sub4+Sub5\n",
    "    print(\"Total=\",Total)\n",
    "    Percentage=Total/5\n",
    "    print(\"Percentage=\",Percentage)\n",
    "\n",
    "Percentage_10th()"
   ]
  },
  {
   "cell_type": "code",
   "execution_count": 28,
   "id": "caf52f5f-398f-4e78-ac2e-c1e91f993e70",
   "metadata": {},
   "outputs": [
    {
     "name": "stdin",
     "output_type": "stream",
     "text": [
      "Height= 32\n",
      "Breadth= 34\n"
     ]
    },
    {
     "name": "stdout",
     "output_type": "stream",
     "text": [
      "Area formula: (Height*Breadth)/2\n",
      "Area of Triangle: 544.0\n"
     ]
    },
    {
     "name": "stdin",
     "output_type": "stream",
     "text": [
      "Height1= 2\n",
      "Height2= 4\n",
      "Breadth= 4\n"
     ]
    },
    {
     "name": "stdout",
     "output_type": "stream",
     "text": [
      "Perimeter formula: Height1+Height2+Breadth\n",
      "Perimeter of Triangle: 10\n"
     ]
    }
   ],
   "source": [
    "H=int(input(\"Height=\"))\n",
    "B=int(input(\"Breadth=\"))\n",
    "def Area(h,b):\n",
    "    print(\"Area formula: (Height*Breadth)/2\")\n",
    "    Area=(h*b)/2\n",
    "    print(\"Area of Triangle:\",Area)\n",
    "Area(H,B)\n",
    "H1=int(input(\"Height1=\"))\n",
    "H2=int(input(\"Height2=\"))\n",
    "B1=int(input(\"Breadth=\"))\n",
    "def Perimeter(h1,h2,b1):\n",
    "    print(\"Perimeter formula: Height1+Height2+Breadth\")\n",
    "    Perimeter=h1+h2+b1\n",
    "    print(\"Perimeter of Triangle:\",Perimeter)\n",
    "Perimeter(H1,H2,B1)"
   ]
  },
  {
   "cell_type": "code",
   "execution_count": null,
   "id": "5a5ac259-c299-486d-8240-f27ce2ec43ca",
   "metadata": {},
   "outputs": [],
   "source": []
  }
 ],
 "metadata": {
  "kernelspec": {
   "display_name": "Python 3 (ipykernel)",
   "language": "python",
   "name": "python3"
  },
  "language_info": {
   "codemirror_mode": {
    "name": "ipython",
    "version": 3
   },
   "file_extension": ".py",
   "mimetype": "text/x-python",
   "name": "python",
   "nbconvert_exporter": "python",
   "pygments_lexer": "ipython3",
   "version": "3.13.5"
  }
 },
 "nbformat": 4,
 "nbformat_minor": 5
}
