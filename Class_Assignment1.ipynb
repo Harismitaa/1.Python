{
 "cells": [
  {
   "cell_type": "code",
   "execution_count": 34,
   "id": "542248a8-504b-4c3b-8b00-94b0860606c4",
   "metadata": {},
   "outputs": [
    {
     "name": "stdout",
     "output_type": "stream",
     "text": [
      "Sub-fields in AI are:\n",
      "Machine Learning\n",
      "Neural Networks\n",
      "Vision\n",
      "Robotics\n",
      "Speech Processing\n",
      "Natural Language Processing\n"
     ]
    }
   ],
   "source": [
    "class SubfieldsInAI():\n",
    "    list1=(\"Machine Learning\",\"Neural Networks\",\"Vision\",\"Robotics\",\"Speech Processing\",\"Natural Language Processing\")\n",
    "    def SubFields():\n",
    "        print(\"Sub-fields in AI are:\")\n",
    "        for temp in SubfieldsInAI.list1:\n",
    "            print(temp)\n",
    "SubfieldsInAI.SubFields()"
   ]
  },
  {
   "cell_type": "code",
   "execution_count": 39,
   "id": "79ca1c9e-03b8-4716-9c06-d629b7179318",
   "metadata": {},
   "outputs": [
    {
     "name": "stdin",
     "output_type": "stream",
     "text": [
      "Enter a number 52452\n"
     ]
    },
    {
     "name": "stdout",
     "output_type": "stream",
     "text": [
      "The number is Even\n"
     ]
    }
   ],
   "source": [
    "class OddEven():\n",
    "    def OddEven():\n",
    "        num=int(input(\"Enter a number\"))\n",
    "        if(num%2==0):\n",
    "            print(\"The number is Even\")\n",
    "        else:\n",
    "           print(\"The number is Odd\")     \n",
    "\n",
    "OddEven.OddEven()"
   ]
  },
  {
   "cell_type": "code",
   "execution_count": 40,
   "id": "1371e330-f18b-423b-8dae-6fddce58c0c7",
   "metadata": {},
   "outputs": [
    {
     "name": "stdin",
     "output_type": "stream",
     "text": [
      "Your Gender(Male/Female): Male\n",
      "Your Age: 19\n"
     ]
    },
    {
     "name": "stdout",
     "output_type": "stream",
     "text": [
      "Not Eligible\n"
     ]
    }
   ],
   "source": [
    "class Marriage():\n",
    "    def Marriage_Eligibility():\n",
    "        Gender=input(\"Your Gender(Male/Female):\")\n",
    "        Age=int(input(\"Your Age:\"))\n",
    "        if(Gender==\"Male\"):\n",
    "            if(Age>=21):\n",
    "                message=\"Eligible\"\n",
    "            else:\n",
    "                message=\"Not Eligible\"\n",
    "        elif(Gender==\"Female\"):\n",
    "            if(Age>=18):\n",
    "                message=\"Eligible\"\n",
    "            else:\n",
    "                message=\"Not Eligible\"\n",
    "        return message\n",
    "    \n",
    "Eligibility=Marriage.Marriage_Eligibility()\n",
    "print(Eligibility)\n",
    "\n"
   ]
  },
  {
   "cell_type": "code",
   "execution_count": 41,
   "id": "55637ce1-ef34-45b4-ab5d-ce42559e2b38",
   "metadata": {},
   "outputs": [
    {
     "name": "stdin",
     "output_type": "stream",
     "text": [
      "Subject1= 98\n",
      "Subject2= 87\n",
      "Subject3= 95\n",
      "Subject4= 95\n",
      "Subject5= 93\n"
     ]
    },
    {
     "name": "stdout",
     "output_type": "stream",
     "text": [
      "Total= 468\n",
      "Percentage= 93.6\n"
     ]
    }
   ],
   "source": [
    "class Marks_Calc():\n",
    "    def Percentage_10th():\n",
    "        Sub1=int(input(\"Subject1=\"))\n",
    "        Sub2=int(input(\"Subject2=\"))\n",
    "        Sub3=int(input(\"Subject3=\"))\n",
    "        Sub4=int(input(\"Subject4=\"))\n",
    "        Sub5=int(input(\"Subject5=\"))\n",
    "        Total=Sub1+Sub2+Sub3+Sub4+Sub5\n",
    "        print(\"Total=\",Total)\n",
    "        Percentage=Total/5\n",
    "        print(\"Percentage=\",Percentage)\n",
    "\n",
    "Marks_Calc.Percentage_10th()"
   ]
  },
  {
   "cell_type": "code",
   "execution_count": 42,
   "id": "9dfbbec9-c3ab-46a8-98e1-7844c50fcb83",
   "metadata": {},
   "outputs": [
    {
     "name": "stdin",
     "output_type": "stream",
     "text": [
      "Height= 32\n",
      "Breadth= 34\n"
     ]
    },
    {
     "name": "stdout",
     "output_type": "stream",
     "text": [
      "Area formula: (Height*Breadth)/2\n",
      "Area of Triangle: 544.0\n"
     ]
    },
    {
     "name": "stdin",
     "output_type": "stream",
     "text": [
      "Height1= 4\n",
      "Height2= 4\n",
      "Breadth= 6\n"
     ]
    },
    {
     "name": "stdout",
     "output_type": "stream",
     "text": [
      "Perimeter formula: Height1+Height2+Breadth\n",
      "Perimeter of Triangle: 14\n"
     ]
    }
   ],
   "source": [
    "class triangle():\n",
    "    def Area(h,b):\n",
    "        print(\"Area formula: (Height*Breadth)/2\")\n",
    "        Area=(h*b)/2\n",
    "        print(\"Area of Triangle:\",Area) \n",
    "    def Perimeter(h1,h2,b1):\n",
    "        print(\"Perimeter formula: Height1+Height2+Breadth\")\n",
    "        Perimeter=h1+h2+b1\n",
    "        print(\"Perimeter of Triangle:\",Perimeter)\n",
    "    \n",
    "\n",
    "\n",
    "H=int(input(\"Height=\"))\n",
    "B=int(input(\"Breadth=\"))\n",
    "triangle.Area(H,B)\n",
    "\n",
    "H1=int(input(\"Height1=\"))\n",
    "H2=int(input(\"Height2=\"))\n",
    "B1=int(input(\"Breadth=\"))\n",
    "triangle.Perimeter(H1,H2,B1)"
   ]
  },
  {
   "cell_type": "code",
   "execution_count": null,
   "id": "e94f125f-630b-4dfe-9d5f-5a3a573d2e37",
   "metadata": {},
   "outputs": [],
   "source": []
  }
 ],
 "metadata": {
  "kernelspec": {
   "display_name": "Python 3 (ipykernel)",
   "language": "python",
   "name": "python3"
  },
  "language_info": {
   "codemirror_mode": {
    "name": "ipython",
    "version": 3
   },
   "file_extension": ".py",
   "mimetype": "text/x-python",
   "name": "python",
   "nbconvert_exporter": "python",
   "pygments_lexer": "ipython3",
   "version": "3.13.5"
  }
 },
 "nbformat": 4,
 "nbformat_minor": 5
}
