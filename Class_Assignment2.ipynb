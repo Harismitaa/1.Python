{
 "cells": [
  {
   "cell_type": "code",
   "execution_count": 1,
   "id": "0be2b4bb-777d-431d-978e-2f98ddac6cda",
   "metadata": {},
   "outputs": [],
   "source": [
    "from ClassAssignmentLib1 import MulFuncLib"
   ]
  },
  {
   "cell_type": "code",
   "execution_count": 2,
   "id": "2e5efec6-efbd-4985-b817-2daf621ef853",
   "metadata": {},
   "outputs": [
    {
     "name": "stdout",
     "output_type": "stream",
     "text": [
      "Sub-fields in AI are:\n",
      "Machine Learning\n",
      "Neural Networks\n",
      "Vision\n",
      "Robotics\n",
      "Speech Processing\n",
      "Natural Language Processing\n"
     ]
    }
   ],
   "source": [
    "MulFuncLib.SubFields()"
   ]
  },
  {
   "cell_type": "code",
   "execution_count": 3,
   "id": "d27fc3c7-7f26-4dbe-be41-920431d57749",
   "metadata": {},
   "outputs": [
    {
     "name": "stdin",
     "output_type": "stream",
     "text": [
      "Enter a number 52452\n"
     ]
    },
    {
     "name": "stdout",
     "output_type": "stream",
     "text": [
      "The number is Even\n"
     ]
    }
   ],
   "source": [
    "MulFuncLib.OddEven()"
   ]
  },
  {
   "cell_type": "code",
   "execution_count": 4,
   "id": "73eb433d-ab6e-4092-ad9f-af7037f4279f",
   "metadata": {},
   "outputs": [
    {
     "name": "stdin",
     "output_type": "stream",
     "text": [
      "Your Gender(Male/Female): Male\n",
      "Your Age: 20\n"
     ]
    },
    {
     "name": "stdout",
     "output_type": "stream",
     "text": [
      "Not Eligible\n"
     ]
    }
   ],
   "source": [
    "Eligibility=MulFuncLib.Marriage_Eligibility()\n",
    "print(Eligibility)"
   ]
  },
  {
   "cell_type": "code",
   "execution_count": 5,
   "id": "f22848cc-9d82-45c2-8592-cf4ebf4d91fd",
   "metadata": {},
   "outputs": [
    {
     "name": "stdin",
     "output_type": "stream",
     "text": [
      "Subject1= 98\n",
      "Subject2= 87\n",
      "Subject3= 95\n",
      "Subject4= 95\n",
      "Subject5= 93\n"
     ]
    },
    {
     "name": "stdout",
     "output_type": "stream",
     "text": [
      "Total= 468\n",
      "Percentage= 93.6\n"
     ]
    }
   ],
   "source": [
    "MulFuncLib.Percentage_10th()"
   ]
  },
  {
   "cell_type": "code",
   "execution_count": 6,
   "id": "9f5f11c3-c2ca-4d3a-9cf1-2116e3e23720",
   "metadata": {},
   "outputs": [
    {
     "name": "stdout",
     "output_type": "stream",
     "text": [
      "Area formula: (Height*Breadth)/2\n",
      "Area of Triangle: 544.0\n"
     ]
    }
   ],
   "source": [
    "MulFuncLib.Area(32,34)"
   ]
  },
  {
   "cell_type": "code",
   "execution_count": 7,
   "id": "b4c77d13-5388-44ca-872f-b52b53185a56",
   "metadata": {},
   "outputs": [
    {
     "name": "stdout",
     "output_type": "stream",
     "text": [
      "Perimeter formula: Height1+Height2+Breadth\n",
      "Perimeter of Triangle: 10\n"
     ]
    }
   ],
   "source": [
    "MulFuncLib.Perimeter(2,4,4)"
   ]
  },
  {
   "cell_type": "code",
   "execution_count": null,
   "id": "e48851b5-7814-4aa4-8ac5-27926eb2a0fd",
   "metadata": {},
   "outputs": [],
   "source": []
  }
 ],
 "metadata": {
  "kernelspec": {
   "display_name": "Python 3 (ipykernel)",
   "language": "python",
   "name": "python3"
  },
  "language_info": {
   "codemirror_mode": {
    "name": "ipython",
    "version": 3
   },
   "file_extension": ".py",
   "mimetype": "text/x-python",
   "name": "python",
   "nbconvert_exporter": "python",
   "pygments_lexer": "ipython3",
   "version": "3.13.5"
  }
 },
 "nbformat": 4,
 "nbformat_minor": 5
}
