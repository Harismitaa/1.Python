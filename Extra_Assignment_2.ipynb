{
 "cells": [
  {
   "cell_type": "code",
   "execution_count": 3,
   "id": "c7dae51a-3c47-4d45-a87f-4f4de967dfb8",
   "metadata": {},
   "outputs": [
    {
     "name": "stdout",
     "output_type": "stream",
     "text": [
      "0\n",
      "1\n",
      "2\n",
      "3\n",
      "4\n",
      "5\n",
      "6\n",
      "7\n",
      "8\n",
      "9\n",
      "10\n",
      "11\n",
      "12\n",
      "13\n",
      "14\n",
      "15\n",
      "16\n",
      "17\n",
      "18\n",
      "19\n"
     ]
    }
   ],
   "source": [
    "for temp in range(0,20):\n",
    "    print(temp)"
   ]
  },
  {
   "cell_type": "code",
   "execution_count": 5,
   "id": "30ef97dd-dc8b-4731-80cb-d923b41a2727",
   "metadata": {},
   "outputs": [
    {
     "name": "stdout",
     "output_type": "stream",
     "text": [
      "10 11 12 13 14 15 16 17 18 19 "
     ]
    }
   ],
   "source": [
    "for temp in range(10,20):\n",
    "    print(temp,end=\" \")"
   ]
  },
  {
   "cell_type": "code",
   "execution_count": 10,
   "id": "229f0449-c609-4fcf-9a1b-71185e0e1442",
   "metadata": {},
   "outputs": [
    {
     "name": "stdout",
     "output_type": "stream",
     "text": [
      "Number of item in the List2:\n",
      " 7\n"
     ]
    }
   ],
   "source": [
    "list=[10, 20, 14, 55, 43, 87, 76]\n",
    "list_len=len(list)\n",
    "print(\"Number of item in the List2:\\n\",list_len)"
   ]
  },
  {
   "cell_type": "code",
   "execution_count": 12,
   "id": "2dab63e5-fadd-406e-987a-df4adc59bd5d",
   "metadata": {},
   "outputs": [
    {
     "name": "stdout",
     "output_type": "stream",
     "text": [
      "Artificial Intelligence\n",
      "A\n",
      "r\n",
      "t\n",
      "i\n",
      "f\n",
      "i\n",
      "c\n",
      "i\n",
      "a\n",
      "l\n",
      " \n",
      "I\n",
      "n\n",
      "t\n",
      "e\n",
      "l\n",
      "l\n",
      "i\n",
      "g\n",
      "e\n",
      "n\n",
      "c\n",
      "e\n"
     ]
    }
   ],
   "source": [
    "word=\"Artificial Intelligence\"\n",
    "print(word)\n",
    "for temp in word:\n",
    "    print(temp)"
   ]
  },
  {
   "cell_type": "code",
   "execution_count": 13,
   "id": "824df880-0aa0-4ee8-8b7c-f47e575ba9b6",
   "metadata": {},
   "outputs": [
    {
     "name": "stdout",
     "output_type": "stream",
     "text": [
      "-Harismitaa-\n",
      "-27-\n",
      "-Analyst-\n"
     ]
    }
   ],
   "source": [
    "print(\"-Harismitaa-\")\n",
    "print(\"-27-\")\n",
    "print(\"-Analyst-\")"
   ]
  },
  {
   "cell_type": "code",
   "execution_count": 15,
   "id": "22711f83-2261-441d-8290-6125bdeaf841",
   "metadata": {},
   "outputs": [
    {
     "name": "stdout",
     "output_type": "stream",
     "text": [
      "(1, 'Welcome', 2, 'Hope')\n"
     ]
    }
   ],
   "source": [
    "tup=(1,\"Welcome\",2,\"Hope\")\n",
    "print(tup)"
   ]
  },
  {
   "cell_type": "code",
   "execution_count": 18,
   "id": "615a4eb1-853d-41de-a741-90ca6f65ce6c",
   "metadata": {},
   "outputs": [
    {
     "name": "stdout",
     "output_type": "stream",
     "text": [
      "((0, 1, 2, 3), ('python', 'HOPE'))\n"
     ]
    }
   ],
   "source": [
    "Tuple1=(0,1,2,3)\n",
    "Tuple2=(\"python\",\"HOPE\")\n",
    "Tuple3 = Tuple1,Tuple2\n",
    "print(Tuple3)"
   ]
  },
  {
   "cell_type": "code",
   "execution_count": 19,
   "id": "2a815e6a-0474-446c-91f8-3924b517adfd",
   "metadata": {},
   "outputs": [
    {
     "name": "stdout",
     "output_type": "stream",
     "text": [
      "19 is odd\n",
      "25 is odd\n",
      "1 is odd\n"
     ]
    }
   ],
   "source": [
    "list=(20,10,16,19,25,1,276,188)\n",
    "for temp in list:\n",
    "    if(temp%2==1):\n",
    "        print(temp,\"is odd\")"
   ]
  },
  {
   "cell_type": "code",
   "execution_count": 20,
   "id": "e5958206-2768-4a79-8aa8-cd6b0c769e0d",
   "metadata": {},
   "outputs": [
    {
     "name": "stdout",
     "output_type": "stream",
     "text": [
      "20 is even\n",
      "10 is even\n",
      "16 is even\n",
      "276 is even\n",
      "188 is even\n"
     ]
    }
   ],
   "source": [
    "for temp in list:\n",
    "    if(temp%2==0):\n",
    "        print(temp,\"is even\")"
   ]
  },
  {
   "cell_type": "code",
   "execution_count": null,
   "id": "cf91d1d7-f3ce-41ae-ae02-5cfd2a6a4b4d",
   "metadata": {},
   "outputs": [],
   "source": []
  }
 ],
 "metadata": {
  "kernelspec": {
   "display_name": "Python 3 (ipykernel)",
   "language": "python",
   "name": "python3"
  },
  "language_info": {
   "codemirror_mode": {
    "name": "ipython",
    "version": 3
   },
   "file_extension": ".py",
   "mimetype": "text/x-python",
   "name": "python",
   "nbconvert_exporter": "python",
   "pygments_lexer": "ipython3",
   "version": "3.13.5"
  }
 },
 "nbformat": 4,
 "nbformat_minor": 5
}
